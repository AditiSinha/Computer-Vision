{
  "nbformat": 4,
  "nbformat_minor": 0,
  "metadata": {
    "colab": {
      "name": "Alien v/s Predators.ipynb",
      "provenance": [],
      "collapsed_sections": [],
      "authorship_tag": "ABX9TyMJB/NEXtIQZowNP1B8Fs5R",
      "include_colab_link": true
    },
    "kernelspec": {
      "name": "python3",
      "display_name": "Python 3"
    },
    "accelerator": "GPU"
  },
  "cells": [
    {
      "cell_type": "markdown",
      "metadata": {
        "id": "view-in-github",
        "colab_type": "text"
      },
      "source": [
        "<a href=\"https://colab.research.google.com/github/anshupandey/Computer-Vision/blob/master/Alien_v_s_Predators%20Image%20Classification.ipynb\" target=\"_parent\"><img src=\"https://colab.research.google.com/assets/colab-badge.svg\" alt=\"Open In Colab\"/></a>"
      ]
    },
    {
      "cell_type": "code",
      "metadata": {
        "id": "5asEQcUr4mlb",
        "colab_type": "code",
        "colab": {}
      },
      "source": [
        "!wget -q https://www.dropbox.com/s/bvp753qskbaz20z/alien-vs-predator-images.zip"
      ],
      "execution_count": 1,
      "outputs": []
    },
    {
      "cell_type": "code",
      "metadata": {
        "id": "JrwSnX0o5kCZ",
        "colab_type": "code",
        "colab": {
          "base_uri": "https://localhost:8080/",
          "height": 34
        },
        "outputId": "835cb279-97f7-4735-ec17-52f35f09f4b9"
      },
      "source": [
        "!unzip alien-vs-predator-images.zip > /dev/null; echo \" done.\""
      ],
      "execution_count": 2,
      "outputs": [
        {
          "output_type": "stream",
          "text": [
            " done.\n"
          ],
          "name": "stdout"
        }
      ]
    },
    {
      "cell_type": "code",
      "metadata": {
        "id": "sxV5WiMh5vhA",
        "colab_type": "code",
        "colab": {}
      },
      "source": [
        "import numpy as np\n",
        "import matplotlib.pyplot as plt\n",
        "from tensorflow.keras.preprocessing import image"
      ],
      "execution_count": 3,
      "outputs": []
    },
    {
      "cell_type": "code",
      "metadata": {
        "id": "Hcj7I4HN6j3x",
        "colab_type": "code",
        "colab": {}
      },
      "source": [
        "# create a data generator object for train and test to load data\n",
        "batch_size=32"
      ],
      "execution_count": 25,
      "outputs": []
    },
    {
      "cell_type": "code",
      "metadata": {
        "id": "xHSuJsEQ7FUR",
        "colab_type": "code",
        "colab": {
          "base_uri": "https://localhost:8080/",
          "height": 34
        },
        "outputId": "11686bdc-759f-412a-9d24-50af4020867b"
      },
      "source": [
        "traindatagen = image.ImageDataGenerator(rescale=1./255.,\n",
        "                                        horizontal_flip = True,\n",
        "                                        rotation_range=10,\n",
        "                                        zoom_range=0.25,\n",
        "                                        shear_range=0.45)\n",
        "\n",
        "\n",
        "train_generator = traindatagen.flow_from_directory(\"alien-vs-predator-images/data/train\",\n",
        "                                              target_size=(200,200),\n",
        "                                              batch_size=batch_size,\n",
        "                                              class_mode='binary')\n",
        "# the class mode for two class classification should be \"binary\" and for multiclass classification it should be\n",
        "# \"categorical\""
      ],
      "execution_count": 28,
      "outputs": [
        {
          "output_type": "stream",
          "text": [
            "Found 694 images belonging to 2 classes.\n"
          ],
          "name": "stdout"
        }
      ]
    },
    {
      "cell_type": "code",
      "metadata": {
        "id": "uONUYTLf8Rf6",
        "colab_type": "code",
        "colab": {
          "base_uri": "https://localhost:8080/",
          "height": 34
        },
        "outputId": "40352740-350e-496b-c5b4-571decec4639"
      },
      "source": [
        "testdatagen = image.ImageDataGenerator(rescale=1./255.)\n",
        "test_generator = testdatagen.flow_from_directory(\"alien-vs-predator-images/data/validation\",\n",
        "                                              target_size=(200,200),\n",
        "                                              batch_size=batch_size,\n",
        "                                              class_mode='binary')"
      ],
      "execution_count": 29,
      "outputs": [
        {
          "output_type": "stream",
          "text": [
            "Found 200 images belonging to 2 classes.\n"
          ],
          "name": "stdout"
        }
      ]
    },
    {
      "cell_type": "code",
      "metadata": {
        "id": "DDsYiwe-9QMM",
        "colab_type": "code",
        "colab": {
          "base_uri": "https://localhost:8080/",
          "height": 51
        },
        "outputId": "9e904fc4-d0e6-470e-db3e-171df6770915"
      },
      "source": [
        "xtrain,ytrain = train_generator.next()\n",
        "print(xtrain.shape)\n",
        "print(ytrain.shape)"
      ],
      "execution_count": 7,
      "outputs": [
        {
          "output_type": "stream",
          "text": [
            "(32, 200, 200, 3)\n",
            "(32,)\n"
          ],
          "name": "stdout"
        }
      ]
    },
    {
      "cell_type": "code",
      "metadata": {
        "id": "r2Qv8JHf9hAJ",
        "colab_type": "code",
        "colab": {
          "base_uri": "https://localhost:8080/",
          "height": 68
        },
        "outputId": "0094ba1e-0582-465a-cc7e-fe2e1567ea35"
      },
      "source": [
        "ytrain"
      ],
      "execution_count": 8,
      "outputs": [
        {
          "output_type": "execute_result",
          "data": {
            "text/plain": [
              "array([1., 0., 0., 1., 0., 1., 0., 1., 0., 1., 0., 0., 1., 1., 0., 1., 0.,\n",
              "       1., 0., 0., 0., 0., 0., 0., 0., 1., 0., 0., 0., 0., 0., 0.],\n",
              "      dtype=float32)"
            ]
          },
          "metadata": {
            "tags": []
          },
          "execution_count": 8
        }
      ]
    },
    {
      "cell_type": "code",
      "metadata": {
        "id": "T4QpKG3M9qfN",
        "colab_type": "code",
        "colab": {
          "base_uri": "https://localhost:8080/",
          "height": 34
        },
        "outputId": "56a4043d-41d2-47d1-f3a7-f943753d7212"
      },
      "source": [
        "train_generator.class_indices # to check which categories are represented by which binary values"
      ],
      "execution_count": 9,
      "outputs": [
        {
          "output_type": "execute_result",
          "data": {
            "text/plain": [
              "{'alien': 0, 'predator': 1}"
            ]
          },
          "metadata": {
            "tags": []
          },
          "execution_count": 9
        }
      ]
    },
    {
      "cell_type": "markdown",
      "metadata": {
        "id": "kLDgu1WQ_ALY",
        "colab_type": "text"
      },
      "source": [
        "# Data Exploration"
      ]
    },
    {
      "cell_type": "code",
      "metadata": {
        "id": "xhXuUdki-geg",
        "colab_type": "code",
        "colab": {
          "base_uri": "https://localhost:8080/",
          "height": 269
        },
        "outputId": "53227ea6-3356-45f6-a551-caac3afde42d"
      },
      "source": [
        "plt.imshow(xtrain[8])\n",
        "plt.show()"
      ],
      "execution_count": 10,
      "outputs": [
        {
          "output_type": "display_data",
          "data": {
            "image/png": "[encoded data removed]",
            "text/plain": [
              "<Figure size 432x288 with 1 Axes>"
            ]
          },
          "metadata": {
            "tags": [],
            "needs_background": "light"
          }
        }
      ]
    },
    {
      "cell_type": "markdown",
      "metadata": {
        "id": "yl-v3ivu_QMa",
        "colab_type": "text"
      },
      "source": [
        "# Modelling - CNN"
      ]
    },
    {
      "cell_type": "code",
      "metadata": {
        "id": "8cT1Nede_EMu",
        "colab_type": "code",
        "colab": {}
      },
      "source": [
        "from tensorflow.keras import models,layers\n",
        "\n",
        "model = models.Sequential()\n",
        "model.add(layers.Conv2D(filters=30,kernel_size=(3,3),input_shape=(200,200,3),activation='relu'))\n",
        "model.add(layers.Conv2D(filters=40,kernel_size=(3,3),activation='relu'))\n",
        "model.add(layers.MaxPooling2D(pool_size=(2,2)))\n",
        "\n",
        "model.add(layers.Dropout(0.2))\n",
        "model.add(layers.Conv2D(filters=50,kernel_size=(3,3),activation='relu'))\n",
        "model.add(layers.Conv2D(filters=60,kernel_size=(3,3),activation='relu'))\n",
        "model.add(layers.MaxPooling2D(pool_size=(2,2)))\n",
        "\n",
        "model.add(layers.Dropout(0.2))\n",
        "model.add(layers.Conv2D(filters=70,kernel_size=(3,3),activation='relu'))\n",
        "model.add(layers.Conv2D(filters=80,kernel_size=(3,3),activation='relu'))\n",
        "model.add(layers.MaxPooling2D(pool_size=(2,2)))\n",
        "\n",
        "### ------------ shifting to flatten layer --------------\n",
        "model.add(layers.Flatten())\n",
        "model.add(layers.Dropout(0.2))\n",
        "model.add(layers.Dense(200,activation='relu'))\n",
        "model.add(layers.Dropout(0.2))\n",
        "model.add(layers.Dense(100,activation='relu'))\n",
        "model.add(layers.Dropout(0.2))\n",
        "model.add(layers.Dense(1,activation='sigmoid'))"
      ],
      "execution_count": 23,
      "outputs": []
    },
    {
      "cell_type": "code",
      "metadata": {
        "id": "uBXrQj-FA8D_",
        "colab_type": "code",
        "colab": {
          "base_uri": "https://localhost:8080/",
          "height": 1000
        },
        "outputId": "cdbb5d22-cad5-4883-a424-ee8e95590bda"
      },
      "source": [
        "model.compile(loss='binary_crossentropy',optimizer='adam',metrics=['accuracy'])\n",
        "model.fit_generator(train_generator,epochs=30,validation_data=test_generator)"
      ],
      "execution_count": 30,
      "outputs": [
        {
          "output_type": "stream",
          "text": [
            "Epoch 1/30\n",
            "22/22 [==============================] - 7s 302ms/step - loss: 0.5584 - accuracy: 0.7190 - val_loss: 0.5691 - val_accuracy: 0.7400\n",
            "Epoch 2/30\n",
            "22/22 [==============================] - 7s 298ms/step - loss: 0.5142 - accuracy: 0.7752 - val_loss: 0.5852 - val_accuracy: 0.7550\n",
            "Epoch 3/30\n",
            "22/22 [==============================] - 6s 294ms/step - loss: 0.4977 - accuracy: 0.7680 - val_loss: 0.6977 - val_accuracy: 0.7400\n",
            "Epoch 4/30\n",
            "22/22 [==============================] - 7s 300ms/step - loss: 0.4836 - accuracy: 0.7608 - val_loss: 0.6587 - val_accuracy: 0.7300\n",
            "Epoch 5/30\n",
            "22/22 [==============================] - 7s 299ms/step - loss: 0.4786 - accuracy: 0.7896 - val_loss: 0.7010 - val_accuracy: 0.7150\n",
            "Epoch 6/30\n",
            "22/22 [==============================] - 7s 297ms/step - loss: 0.4974 - accuracy: 0.7594 - val_loss: 0.6469 - val_accuracy: 0.6450\n",
            "Epoch 7/30\n",
            "22/22 [==============================] - 7s 298ms/step - loss: 0.5232 - accuracy: 0.7550 - val_loss: 0.5801 - val_accuracy: 0.7500\n",
            "Epoch 8/30\n",
            "22/22 [==============================] - 7s 300ms/step - loss: 0.4694 - accuracy: 0.7637 - val_loss: 0.6823 - val_accuracy: 0.7400\n",
            "Epoch 9/30\n",
            "22/22 [==============================] - 7s 301ms/step - loss: 0.4732 - accuracy: 0.7867 - val_loss: 0.6218 - val_accuracy: 0.7700\n",
            "Epoch 10/30\n",
            "22/22 [==============================] - 6s 295ms/step - loss: 0.4856 - accuracy: 0.7594 - val_loss: 0.8067 - val_accuracy: 0.7550\n",
            "Epoch 11/30\n",
            "22/22 [==============================] - 7s 298ms/step - loss: 0.4944 - accuracy: 0.7723 - val_loss: 0.6338 - val_accuracy: 0.7800\n",
            "Epoch 12/30\n",
            "22/22 [==============================] - 6s 295ms/step - loss: 0.4435 - accuracy: 0.8026 - val_loss: 0.7220 - val_accuracy: 0.7150\n",
            "Epoch 13/30\n",
            "22/22 [==============================] - 7s 299ms/step - loss: 0.4335 - accuracy: 0.7983 - val_loss: 0.8853 - val_accuracy: 0.7600\n",
            "Epoch 14/30\n",
            "22/22 [==============================] - 6s 294ms/step - loss: 0.4555 - accuracy: 0.7781 - val_loss: 0.8378 - val_accuracy: 0.7800\n",
            "Epoch 15/30\n",
            "22/22 [==============================] - 6s 294ms/step - loss: 0.4438 - accuracy: 0.7925 - val_loss: 0.6349 - val_accuracy: 0.7450\n",
            "Epoch 16/30\n",
            "22/22 [==============================] - 7s 297ms/step - loss: 0.4168 - accuracy: 0.8040 - val_loss: 0.8069 - val_accuracy: 0.7550\n",
            "Epoch 17/30\n",
            "22/22 [==============================] - 6s 295ms/step - loss: 0.4526 - accuracy: 0.8084 - val_loss: 0.6705 - val_accuracy: 0.7700\n",
            "Epoch 18/30\n",
            "22/22 [==============================] - 7s 297ms/step - loss: 0.4480 - accuracy: 0.7997 - val_loss: 0.5945 - val_accuracy: 0.7150\n",
            "Epoch 19/30\n",
            "22/22 [==============================] - 6s 294ms/step - loss: 0.4453 - accuracy: 0.7939 - val_loss: 0.6885 - val_accuracy: 0.7550\n",
            "Epoch 20/30\n",
            "22/22 [==============================] - 7s 301ms/step - loss: 0.4086 - accuracy: 0.8184 - val_loss: 0.8202 - val_accuracy: 0.7300\n",
            "Epoch 21/30\n",
            "22/22 [==============================] - 7s 299ms/step - loss: 0.4598 - accuracy: 0.8026 - val_loss: 0.7867 - val_accuracy: 0.7100\n",
            "Epoch 22/30\n",
            "22/22 [==============================] - 7s 296ms/step - loss: 0.5410 - accuracy: 0.7608 - val_loss: 0.5980 - val_accuracy: 0.7500\n",
            "Epoch 23/30\n",
            "22/22 [==============================] - 6s 295ms/step - loss: 0.5016 - accuracy: 0.7709 - val_loss: 0.6164 - val_accuracy: 0.7550\n",
            "Epoch 24/30\n",
            "22/22 [==============================] - 7s 296ms/step - loss: 0.4230 - accuracy: 0.8098 - val_loss: 0.7998 - val_accuracy: 0.7750\n",
            "Epoch 25/30\n",
            "22/22 [==============================] - 7s 297ms/step - loss: 0.4071 - accuracy: 0.8170 - val_loss: 0.8104 - val_accuracy: 0.7650\n",
            "Epoch 26/30\n",
            "22/22 [==============================] - 7s 296ms/step - loss: 0.4158 - accuracy: 0.8055 - val_loss: 0.6676 - val_accuracy: 0.7600\n",
            "Epoch 27/30\n",
            "22/22 [==============================] - 6s 295ms/step - loss: 0.3980 - accuracy: 0.8112 - val_loss: 0.7514 - val_accuracy: 0.7700\n",
            "Epoch 28/30\n",
            "22/22 [==============================] - 7s 296ms/step - loss: 0.4215 - accuracy: 0.8069 - val_loss: 0.6304 - val_accuracy: 0.7450\n",
            "Epoch 29/30\n",
            "22/22 [==============================] - 7s 298ms/step - loss: 0.4026 - accuracy: 0.8127 - val_loss: 0.9928 - val_accuracy: 0.7750\n",
            "Epoch 30/30\n",
            "22/22 [==============================] - 7s 296ms/step - loss: 0.3957 - accuracy: 0.8285 - val_loss: 0.7540 - val_accuracy: 0.7550\n"
          ],
          "name": "stdout"
        },
        {
          "output_type": "execute_result",
          "data": {
            "text/plain": [
              "<tensorflow.python.keras.callbacks.History at 0x7fbde2275780>"
            ]
          },
          "metadata": {
            "tags": []
          },
          "execution_count": 30
        }
      ]
    },
    {
      "cell_type": "code",
      "metadata": {
        "id": "mW5K5GUZIS9t",
        "colab_type": "code",
        "colab": {
          "base_uri": "https://localhost:8080/",
          "height": 397
        },
        "outputId": "438f1760-f6e8-4bd3-db2f-426dfb8a183b"
      },
      "source": [
        "model.fit_generator(train_generator,epochs=10,validation_data=test_generator)"
      ],
      "execution_count": 31,
      "outputs": [
        {
          "output_type": "stream",
          "text": [
            "Epoch 1/10\n",
            "22/22 [==============================] - 7s 303ms/step - loss: 0.4050 - accuracy: 0.8170 - val_loss: 0.7913 - val_accuracy: 0.7500\n",
            "Epoch 2/10\n",
            "22/22 [==============================] - 7s 296ms/step - loss: 0.3622 - accuracy: 0.8444 - val_loss: 0.9849 - val_accuracy: 0.7100\n",
            "Epoch 3/10\n",
            "22/22 [==============================] - 7s 296ms/step - loss: 0.3947 - accuracy: 0.8285 - val_loss: 0.8581 - val_accuracy: 0.7400\n",
            "Epoch 4/10\n",
            "22/22 [==============================] - 7s 296ms/step - loss: 0.3603 - accuracy: 0.8429 - val_loss: 0.7270 - val_accuracy: 0.7700\n",
            "Epoch 5/10\n",
            "22/22 [==============================] - 6s 295ms/step - loss: 0.3506 - accuracy: 0.8401 - val_loss: 0.9402 - val_accuracy: 0.7700\n",
            "Epoch 6/10\n",
            "22/22 [==============================] - 7s 298ms/step - loss: 0.3359 - accuracy: 0.8487 - val_loss: 0.7487 - val_accuracy: 0.7650\n",
            "Epoch 7/10\n",
            "22/22 [==============================] - 6s 295ms/step - loss: 0.3508 - accuracy: 0.8429 - val_loss: 0.7750 - val_accuracy: 0.7650\n",
            "Epoch 8/10\n",
            "22/22 [==============================] - 6s 295ms/step - loss: 0.3479 - accuracy: 0.8617 - val_loss: 0.8091 - val_accuracy: 0.7600\n",
            "Epoch 9/10\n",
            "22/22 [==============================] - 7s 296ms/step - loss: 0.3251 - accuracy: 0.8573 - val_loss: 1.0013 - val_accuracy: 0.7650\n",
            "Epoch 10/10\n",
            "22/22 [==============================] - 6s 294ms/step - loss: 0.3202 - accuracy: 0.8746 - val_loss: 0.8078 - val_accuracy: 0.7300\n"
          ],
          "name": "stdout"
        },
        {
          "output_type": "execute_result",
          "data": {
            "text/plain": [
              "<tensorflow.python.keras.callbacks.History at 0x7fbde2275d30>"
            ]
          },
          "metadata": {
            "tags": []
          },
          "execution_count": 31
        }
      ]
    },
    {
      "cell_type": "code",
      "metadata": {
        "id": "Dpx_7aEiLXG3",
        "colab_type": "code",
        "colab": {
          "base_uri": "https://localhost:8080/",
          "height": 397
        },
        "outputId": "85615205-8de5-41dd-ce4a-3b70000d8f22"
      },
      "source": [
        "model.fit_generator(train_generator,epochs=10,validation_data=test_generator)"
      ],
      "execution_count": 32,
      "outputs": [
        {
          "output_type": "stream",
          "text": [
            "Epoch 1/10\n",
            "22/22 [==============================] - 7s 303ms/step - loss: 0.3256 - accuracy: 0.8646 - val_loss: 0.8878 - val_accuracy: 0.7450\n",
            "Epoch 2/10\n",
            "22/22 [==============================] - 7s 296ms/step - loss: 0.3174 - accuracy: 0.8501 - val_loss: 0.8298 - val_accuracy: 0.7650\n",
            "Epoch 3/10\n",
            "22/22 [==============================] - 7s 296ms/step - loss: 0.2971 - accuracy: 0.8775 - val_loss: 0.7605 - val_accuracy: 0.7500\n",
            "Epoch 4/10\n",
            "22/22 [==============================] - 6s 294ms/step - loss: 0.3488 - accuracy: 0.8545 - val_loss: 0.6356 - val_accuracy: 0.7600\n",
            "Epoch 5/10\n",
            "22/22 [==============================] - 7s 295ms/step - loss: 0.3122 - accuracy: 0.8573 - val_loss: 0.8178 - val_accuracy: 0.7600\n",
            "Epoch 6/10\n",
            "22/22 [==============================] - 7s 297ms/step - loss: 0.2756 - accuracy: 0.8746 - val_loss: 0.8345 - val_accuracy: 0.7500\n",
            "Epoch 7/10\n",
            "22/22 [==============================] - 7s 302ms/step - loss: 0.3230 - accuracy: 0.8761 - val_loss: 0.8275 - val_accuracy: 0.7700\n",
            "Epoch 8/10\n",
            "22/22 [==============================] - 7s 300ms/step - loss: 0.3399 - accuracy: 0.8588 - val_loss: 0.9163 - val_accuracy: 0.7450\n",
            "Epoch 9/10\n",
            "22/22 [==============================] - 7s 301ms/step - loss: 0.2815 - accuracy: 0.8862 - val_loss: 0.9052 - val_accuracy: 0.7750\n",
            "Epoch 10/10\n",
            "22/22 [==============================] - 7s 297ms/step - loss: 0.2938 - accuracy: 0.8818 - val_loss: 1.0773 - val_accuracy: 0.7750\n"
          ],
          "name": "stdout"
        },
        {
          "output_type": "execute_result",
          "data": {
            "text/plain": [
              "<tensorflow.python.keras.callbacks.History at 0x7fbdda21f8d0>"
            ]
          },
          "metadata": {
            "tags": []
          },
          "execution_count": 32
        }
      ]
    },
    {
      "cell_type": "code",
      "metadata": {
        "id": "gK_5QxAbMW_t",
        "colab_type": "code",
        "colab": {
          "base_uri": "https://localhost:8080/",
          "height": 397
        },
        "outputId": "ee140a05-8b21-44e9-866b-73f3b66c4270"
      },
      "source": [
        "model.fit_generator(train_generator,epochs=10,validation_data=test_generator)"
      ],
      "execution_count": 33,
      "outputs": [
        {
          "output_type": "stream",
          "text": [
            "Epoch 1/10\n",
            "22/22 [==============================] - 7s 301ms/step - loss: 0.3055 - accuracy: 0.8660 - val_loss: 0.9034 - val_accuracy: 0.7600\n",
            "Epoch 2/10\n",
            "22/22 [==============================] - 6s 294ms/step - loss: 0.2578 - accuracy: 0.8876 - val_loss: 0.7766 - val_accuracy: 0.7600\n",
            "Epoch 3/10\n",
            "22/22 [==============================] - 6s 294ms/step - loss: 0.2743 - accuracy: 0.8847 - val_loss: 0.7823 - val_accuracy: 0.7500\n",
            "Epoch 4/10\n",
            "22/22 [==============================] - 7s 297ms/step - loss: 0.2732 - accuracy: 0.8876 - val_loss: 0.6970 - val_accuracy: 0.7600\n",
            "Epoch 5/10\n",
            "22/22 [==============================] - 6s 295ms/step - loss: 0.2688 - accuracy: 0.8862 - val_loss: 0.5437 - val_accuracy: 0.7750\n",
            "Epoch 6/10\n",
            "22/22 [==============================] - 7s 297ms/step - loss: 0.3227 - accuracy: 0.8501 - val_loss: 1.0224 - val_accuracy: 0.7700\n",
            "Epoch 7/10\n",
            "22/22 [==============================] - 7s 296ms/step - loss: 0.2707 - accuracy: 0.8890 - val_loss: 0.7093 - val_accuracy: 0.7550\n",
            "Epoch 8/10\n",
            "22/22 [==============================] - 7s 301ms/step - loss: 0.2424 - accuracy: 0.8977 - val_loss: 1.3179 - val_accuracy: 0.8000\n",
            "Epoch 9/10\n",
            "22/22 [==============================] - 7s 301ms/step - loss: 0.3119 - accuracy: 0.8775 - val_loss: 1.2044 - val_accuracy: 0.7600\n",
            "Epoch 10/10\n",
            "22/22 [==============================] - 7s 298ms/step - loss: 0.2757 - accuracy: 0.8804 - val_loss: 0.8420 - val_accuracy: 0.7750\n"
          ],
          "name": "stdout"
        },
        {
          "output_type": "execute_result",
          "data": {
            "text/plain": [
              "<tensorflow.python.keras.callbacks.History at 0x7fbdda1db6d8>"
            ]
          },
          "metadata": {
            "tags": []
          },
          "execution_count": 33
        }
      ]
    },
    {
      "cell_type": "code",
      "metadata": {
        "id": "JCN5DCiUMsjZ",
        "colab_type": "code",
        "colab": {
          "base_uri": "https://localhost:8080/",
          "height": 397
        },
        "outputId": "c1ff991b-c25c-4e66-ae49-d2f42c7101ed"
      },
      "source": [
        "model.fit_generator(train_generator,epochs=10,validation_data=test_generator)"
      ],
      "execution_count": 34,
      "outputs": [
        {
          "output_type": "stream",
          "text": [
            "Epoch 1/10\n",
            "22/22 [==============================] - 7s 300ms/step - loss: 0.2318 - accuracy: 0.9035 - val_loss: 0.8357 - val_accuracy: 0.7800\n",
            "Epoch 2/10\n",
            "22/22 [==============================] - 7s 297ms/step - loss: 0.1857 - accuracy: 0.9236 - val_loss: 1.1563 - val_accuracy: 0.7850\n",
            "Epoch 3/10\n",
            "22/22 [==============================] - 7s 298ms/step - loss: 0.2395 - accuracy: 0.9107 - val_loss: 0.6919 - val_accuracy: 0.7250\n",
            "Epoch 4/10\n",
            "22/22 [==============================] - 7s 296ms/step - loss: 0.2053 - accuracy: 0.9207 - val_loss: 1.1092 - val_accuracy: 0.7850\n",
            "Epoch 5/10\n",
            "22/22 [==============================] - 7s 299ms/step - loss: 0.2162 - accuracy: 0.9150 - val_loss: 0.7470 - val_accuracy: 0.7600\n",
            "Epoch 6/10\n",
            "22/22 [==============================] - 7s 296ms/step - loss: 0.2308 - accuracy: 0.8919 - val_loss: 1.5460 - val_accuracy: 0.7450\n",
            "Epoch 7/10\n",
            "22/22 [==============================] - 7s 297ms/step - loss: 0.2781 - accuracy: 0.8934 - val_loss: 0.8286 - val_accuracy: 0.7700\n",
            "Epoch 8/10\n",
            "22/22 [==============================] - 7s 298ms/step - loss: 0.1979 - accuracy: 0.9135 - val_loss: 1.4086 - val_accuracy: 0.7650\n",
            "Epoch 9/10\n",
            "22/22 [==============================] - 7s 297ms/step - loss: 0.2047 - accuracy: 0.9222 - val_loss: 1.0609 - val_accuracy: 0.7750\n",
            "Epoch 10/10\n",
            "22/22 [==============================] - 7s 297ms/step - loss: 0.2320 - accuracy: 0.9092 - val_loss: 0.8100 - val_accuracy: 0.7700\n"
          ],
          "name": "stdout"
        },
        {
          "output_type": "execute_result",
          "data": {
            "text/plain": [
              "<tensorflow.python.keras.callbacks.History at 0x7fbdda17d5f8>"
            ]
          },
          "metadata": {
            "tags": []
          },
          "execution_count": 34
        }
      ]
    },
    {
      "cell_type": "code",
      "metadata": {
        "id": "YAqgpfAIM_5N",
        "colab_type": "code",
        "colab": {}
      },
      "source": [
        "model.save(\"alien_vs_preditor.h5\")"
      ],
      "execution_count": 35,
      "outputs": []
    },
    {
      "cell_type": "code",
      "metadata": {
        "id": "D-VSHnOENmVG",
        "colab_type": "code",
        "colab": {}
      },
      "source": [
        ""
      ],
      "execution_count": null,
      "outputs": []
    }
  ]
}
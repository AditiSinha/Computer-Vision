{
 "cells": [
  {
   "cell_type": "code",
   "execution_count": 1,
   "metadata": {},
   "outputs": [],
   "source": [
    "import pandas\n",
    "import matplotlib.pyplot as plt\n",
    "import numpy"
   ]
  },
  {
   "cell_type": "code",
   "execution_count": 4,
   "metadata": {},
   "outputs": [],
   "source": [
    "data=pandas.read_csv(r\"C:\\Users\\Roboindia\\Desktop\\Aashish\\fer2013.csv\")"
   ]
  },
  {
   "cell_type": "code",
   "execution_count": 5,
   "metadata": {},
   "outputs": [
    {
     "data": {
      "text/html": [
       "<div>\n",
       "<style scoped>\n",
       "    .dataframe tbody tr th:only-of-type {\n",
       "        vertical-align: middle;\n",
       "    }\n",
       "\n",
       "    .dataframe tbody tr th {\n",
       "        vertical-align: top;\n",
       "    }\n",
       "\n",
       "    .dataframe thead th {\n",
       "        text-align: right;\n",
       "    }\n",
       "</style>\n",
       "<table border=\"1\" class=\"dataframe\">\n",
       "  <thead>\n",
       "    <tr style=\"text-align: right;\">\n",
       "      <th></th>\n",
       "      <th>emotion</th>\n",
       "      <th>pixels</th>\n",
       "      <th>Usage</th>\n",
       "    </tr>\n",
       "  </thead>\n",
       "  <tbody>\n",
       "    <tr>\n",
       "      <th>0</th>\n",
       "      <td>0</td>\n",
       "      <td>70 80 82 72 58 58 60 63 54 58 60 48 89 115 121...</td>\n",
       "      <td>Training</td>\n",
       "    </tr>\n",
       "    <tr>\n",
       "      <th>1</th>\n",
       "      <td>0</td>\n",
       "      <td>151 150 147 155 148 133 111 140 170 174 182 15...</td>\n",
       "      <td>Training</td>\n",
       "    </tr>\n",
       "    <tr>\n",
       "      <th>2</th>\n",
       "      <td>2</td>\n",
       "      <td>231 212 156 164 174 138 161 173 182 200 106 38...</td>\n",
       "      <td>Training</td>\n",
       "    </tr>\n",
       "    <tr>\n",
       "      <th>3</th>\n",
       "      <td>4</td>\n",
       "      <td>24 32 36 30 32 23 19 20 30 41 21 22 32 34 21 1...</td>\n",
       "      <td>Training</td>\n",
       "    </tr>\n",
       "    <tr>\n",
       "      <th>4</th>\n",
       "      <td>6</td>\n",
       "      <td>4 0 0 0 0 0 0 0 0 0 0 0 3 15 23 28 48 50 58 84...</td>\n",
       "      <td>Training</td>\n",
       "    </tr>\n",
       "  </tbody>\n",
       "</table>\n",
       "</div>"
      ],
      "text/plain": [
       "   emotion                                             pixels     Usage\n",
       "0        0  70 80 82 72 58 58 60 63 54 58 60 48 89 115 121...  Training\n",
       "1        0  151 150 147 155 148 133 111 140 170 174 182 15...  Training\n",
       "2        2  231 212 156 164 174 138 161 173 182 200 106 38...  Training\n",
       "3        4  24 32 36 30 32 23 19 20 30 41 21 22 32 34 21 1...  Training\n",
       "4        6  4 0 0 0 0 0 0 0 0 0 0 0 3 15 23 28 48 50 58 84...  Training"
      ]
     },
     "execution_count": 5,
     "metadata": {},
     "output_type": "execute_result"
    }
   ],
   "source": [
    "data.head()"
   ]
  },
  {
   "cell_type": "code",
   "execution_count": 15,
   "metadata": {},
   "outputs": [],
   "source": [
    "img=data['pixels']"
   ]
  },
  {
   "cell_type": "code",
   "execution_count": 16,
   "metadata": {},
   "outputs": [],
   "source": [
    "img=img.transform(lambda x:numpy.array(x.split(' '),dtype='uint8'))"
   ]
  },
  {
   "cell_type": "code",
   "execution_count": 18,
   "metadata": {},
   "outputs": [
    {
     "data": {
      "text/plain": [
       "0    [70, 80, 82, 72, 58, 58, 60, 63, 54, 58, 60, 4...\n",
       "1    [151, 150, 147, 155, 148, 133, 111, 140, 170, ...\n",
       "2    [231, 212, 156, 164, 174, 138, 161, 173, 182, ...\n",
       "3    [24, 32, 36, 30, 32, 23, 19, 20, 30, 41, 21, 2...\n",
       "4    [4, 0, 0, 0, 0, 0, 0, 0, 0, 0, 0, 0, 3, 15, 23...\n",
       "Name: pixels, dtype: object"
      ]
     },
     "execution_count": 18,
     "metadata": {},
     "output_type": "execute_result"
    }
   ],
   "source": [
    "type(img)\n",
    "img.head()"
   ]
  },
  {
   "cell_type": "code",
   "execution_count": 19,
   "metadata": {},
   "outputs": [],
   "source": [
    "img=numpy.array(img)"
   ]
  },
  {
   "cell_type": "code",
   "execution_count": 24,
   "metadata": {},
   "outputs": [
    {
     "data": {
      "text/plain": [
       "[array([ 70,  80,  82, ..., 106, 109,  82], dtype=uint8),\n",
       " array([151, 150, 147, ..., 193, 183, 184], dtype=uint8),\n",
       " array([231, 212, 156, ...,  88, 110, 152], dtype=uint8),\n",
       " array([ 24,  32,  36, ..., 142, 143, 142], dtype=uint8),\n",
       " array([ 4,  0,  0, ..., 30, 29, 30], dtype=uint8)]"
      ]
     },
     "execution_count": 24,
     "metadata": {},
     "output_type": "execute_result"
    }
   ],
   "source": [
    "img=img.tolist()\n",
    "img[:5]"
   ]
  },
  {
   "cell_type": "code",
   "execution_count": 26,
   "metadata": {},
   "outputs": [
    {
     "data": {
      "text/plain": [
       "(2304,)"
      ]
     },
     "execution_count": 26,
     "metadata": {},
     "output_type": "execute_result"
    }
   ],
   "source": [
    "img[10].shape"
   ]
  },
  {
   "cell_type": "code",
   "execution_count": 27,
   "metadata": {},
   "outputs": [],
   "source": [
    "img=numpy.concatenate(img).reshape(-1,2304)"
   ]
  },
  {
   "cell_type": "code",
   "execution_count": 28,
   "metadata": {},
   "outputs": [
    {
     "data": {
      "text/plain": [
       "(35887, 2304)"
      ]
     },
     "execution_count": 28,
     "metadata": {},
     "output_type": "execute_result"
    }
   ],
   "source": [
    "img.shape"
   ]
  },
  {
   "cell_type": "code",
   "execution_count": 41,
   "metadata": {},
   "outputs": [
    {
     "data": {
      "image/png": "[encoded data removed]",
      "text/plain": [
       "<Figure size 432x288 with 1 Axes>"
      ]
     },
     "metadata": {},
     "output_type": "display_data"
    }
   ],
   "source": [
    "plt.imshow(img[35078].reshape(48,48),cmap='gray')\n",
    "plt.show()"
   ]
  },
  {
   "cell_type": "code",
   "execution_count": 2,
   "metadata": {},
   "outputs": [
    {
     "name": "stderr",
     "output_type": "stream",
     "text": [
      "C:\\ProgramData\\Anaconda3\\lib\\site-packages\\h5py\\__init__.py:36: FutureWarning: Conversion of the second argument of issubdtype from `float` to `np.floating` is deprecated. In future, it will be treated as `np.float64 == np.dtype(float).type`.\n",
      "  from ._conv import register_converters as _register_converters\n"
     ]
    }
   ],
   "source": [
    "import tensorflow as tf\n",
    "from tensorflow.keras import models,layers\n",
    "from tensorflow.keras.preprocessing import image\n",
    "from tensorflow.keras import utils"
   ]
  },
  {
   "cell_type": "code",
   "execution_count": 3,
   "metadata": {},
   "outputs": [],
   "source": [
    "labels=['angry','disgust','fear','happy','sad','surprise','neutral']"
   ]
  },
  {
   "cell_type": "code",
   "execution_count": 4,
   "metadata": {},
   "outputs": [],
   "source": [
    "#load the data\n",
    "with open(r\"C:\\Users\\Roboindia\\Desktop\\Aashish\\fer2013.csv\") as file:\n",
    "    content=file.readlines()\n",
    "    \n",
    "data=numpy.array(content)"
   ]
  },
  {
   "cell_type": "code",
   "execution_count": 5,
   "metadata": {},
   "outputs": [
    {
     "name": "stdout",
     "output_type": "stream",
     "text": [
      "35888\n",
      "2304\n"
     ]
    }
   ],
   "source": [
    "print(data.size)\n",
    "print(len(data[1].split(',')[1].split(\" \")))"
   ]
  },
  {
   "cell_type": "code",
   "execution_count": 6,
   "metadata": {},
   "outputs": [],
   "source": [
    "xtrain=[]\n",
    "xtest=[]\n",
    "ytrain=[]\n",
    "ytest=[]"
   ]
  },
  {
   "cell_type": "code",
   "execution_count": 7,
   "metadata": {},
   "outputs": [],
   "source": [
    "for i in range(1,data.size):\n",
    "    emotion,img,usage=data[i].split(',')\n",
    "    pixels=img.split(' ')\n",
    "    pixels=numpy.array(pixels,'float32')\n",
    "    emotion=utils.to_categorical(emotion,len(labels))\n",
    "    if 'Training' in usage:\n",
    "        xtrain.append(pixels)\n",
    "        ytrain.append(emotion)\n",
    "    elif 'Public' in usage:\n",
    "        xtest.append(pixels)\n",
    "        ytest.append(emotion)"
   ]
  },
  {
   "cell_type": "code",
   "execution_count": 8,
   "metadata": {},
   "outputs": [],
   "source": [
    "xtrain=numpy.array(xtrain,'float32')\n",
    "xtest=numpy.array(xtest,'float32')\n",
    "ytrain=numpy.array(ytrain,'float32')\n",
    "ytest=numpy.array(ytest,'float32')"
   ]
  },
  {
   "cell_type": "code",
   "execution_count": 9,
   "metadata": {},
   "outputs": [
    {
     "name": "stdout",
     "output_type": "stream",
     "text": [
      "(28709, 2304)\n",
      "(3589, 2304)\n",
      "(28709, 7)\n",
      "(3589, 7)\n"
     ]
    }
   ],
   "source": [
    "print(xtrain.shape)\n",
    "print(xtest.shape)\n",
    "print(ytrain.shape)\n",
    "print(ytest.shape)"
   ]
  },
  {
   "cell_type": "code",
   "execution_count": 10,
   "metadata": {},
   "outputs": [
    {
     "data": {
      "text/plain": [
       "array([ 70.,  80.,  82., ..., 106., 109.,  82.], dtype=float32)"
      ]
     },
     "execution_count": 10,
     "metadata": {},
     "output_type": "execute_result"
    }
   ],
   "source": [
    "xtrain[0]"
   ]
  },
  {
   "cell_type": "code",
   "execution_count": 11,
   "metadata": {},
   "outputs": [],
   "source": [
    "#normalize the pixels values between 0 to 1\n",
    "xtrain=xtrain/255\n",
    "xtest=xtest/255"
   ]
  },
  {
   "cell_type": "code",
   "execution_count": 12,
   "metadata": {},
   "outputs": [],
   "source": [
    "xtrain=xtrain.reshape(28709,48,48,1)\n",
    "xtest=xtest.reshape(3589,48,48,1)"
   ]
  },
  {
   "cell_type": "code",
   "execution_count": 13,
   "metadata": {},
   "outputs": [
    {
     "data": {
      "text/plain": [
       "dtype('float32')"
      ]
     },
     "execution_count": 13,
     "metadata": {},
     "output_type": "execute_result"
    }
   ],
   "source": [
    "xtest.dtype"
   ]
  },
  {
   "cell_type": "markdown",
   "metadata": {},
   "source": [
    "# Convolutional Neural Network"
   ]
  },
  {
   "cell_type": "code",
   "execution_count": 67,
   "metadata": {},
   "outputs": [],
   "source": [
    "model=models.Sequential()"
   ]
  },
  {
   "cell_type": "code",
   "execution_count": 68,
   "metadata": {},
   "outputs": [],
   "source": [
    "#1st layer for FD\n",
    "model.add(layers.Conv2D(filters=64,kernel_size=(5,5),input_shape=(48,48,1),activation='relu'))\n",
    "model.add(layers.MaxPooling2D(pool_size=(3,3),strides=(2,2)))"
   ]
  },
  {
   "cell_type": "code",
   "execution_count": 69,
   "metadata": {},
   "outputs": [],
   "source": [
    "#2nd layer of FD\n",
    "model.add(layers.Conv2D(filters=64,kernel_size=(3,3),activation='relu'))\n",
    "model.add(layers.Conv2D(filters=64,kernel_size=(3,3),activation='relu'))\n",
    "model.add(layers.AveragePooling2D(pool_size=(3,3),strides=(2,2)))"
   ]
  },
  {
   "cell_type": "code",
   "execution_count": 70,
   "metadata": {},
   "outputs": [],
   "source": [
    "#2nd layer of FD\n",
    "model.add(layers.Conv2D(filters=128,kernel_size=(3,3),activation='relu'))\n",
    "model.add(layers.MaxPooling2D(pool_size=(2,2),strides=(2,2)))"
   ]
  },
  {
   "cell_type": "code",
   "execution_count": 71,
   "metadata": {},
   "outputs": [],
   "source": [
    "model.add(layers.Flatten())"
   ]
  },
  {
   "cell_type": "code",
   "execution_count": 72,
   "metadata": {},
   "outputs": [],
   "source": [
    "model.add(layers.Dense(1000,activation='relu'))\n",
    "model.add(layers.Dense(7,activation='softmax'))"
   ]
  },
  {
   "cell_type": "code",
   "execution_count": 73,
   "metadata": {},
   "outputs": [],
   "source": [
    "#compile the neural network\n",
    "model.compile(loss='categorical_crossentropy',optimizer='adam',metrics=['accuracy'])"
   ]
  },
  {
   "cell_type": "code",
   "execution_count": 74,
   "metadata": {},
   "outputs": [],
   "source": [
    "gen=image.ImageDataGenerator()\n",
    "train_data=gen.flow(xtrain,ytrain,batch_size=256)"
   ]
  },
  {
   "cell_type": "code",
   "execution_count": 75,
   "metadata": {},
   "outputs": [
    {
     "name": "stdout",
     "output_type": "stream",
     "text": [
      "Epoch 1/50\n",
      "256/256 [==============================] - 19s 74ms/step - loss: 1.6805 - acc: 0.3236 - val_loss: 1.4735 - val_acc: 0.4271\n",
      "Epoch 2/50\n",
      "256/256 [==============================] - 17s 66ms/step - loss: 1.3661 - acc: 0.4777 - val_loss: 1.3292 - val_acc: 0.4929\n",
      "Epoch 3/50\n",
      "256/256 [==============================] - 17s 65ms/step - loss: 1.2056 - acc: 0.5424 - val_loss: 1.2113 - val_acc: 0.5383\n",
      "Epoch 4/50\n",
      "256/256 [==============================] - 17s 65ms/step - loss: 1.0990 - acc: 0.5876 - val_loss: 1.1881 - val_acc: 0.5534\n",
      "Epoch 5/50\n",
      "256/256 [==============================] - 17s 66ms/step - loss: 0.9755 - acc: 0.6369 - val_loss: 1.1943 - val_acc: 0.5595\n",
      "Epoch 6/50\n",
      "256/256 [==============================] - 17s 66ms/step - loss: 0.8399 - acc: 0.6912 - val_loss: 1.3130 - val_acc: 0.5581\n",
      "Epoch 7/50\n",
      "256/256 [==============================] - 17s 66ms/step - loss: 0.6755 - acc: 0.7559 - val_loss: 1.3644 - val_acc: 0.5653\n",
      "Epoch 8/50\n",
      "256/256 [==============================] - 17s 67ms/step - loss: 0.4971 - acc: 0.8244 - val_loss: 1.6060 - val_acc: 0.5698\n",
      "Epoch 9/50\n",
      "256/256 [==============================] - 17s 67ms/step - loss: 0.3298 - acc: 0.8865 - val_loss: 2.0226 - val_acc: 0.5704\n",
      "Epoch 10/50\n",
      "256/256 [==============================] - 17s 67ms/step - loss: 0.2314 - acc: 0.9221 - val_loss: 2.2075 - val_acc: 0.5692\n",
      "Epoch 11/50\n",
      "256/256 [==============================] - 17s 68ms/step - loss: 0.1630 - acc: 0.9463 - val_loss: 2.4854 - val_acc: 0.5676\n",
      "Epoch 12/50\n",
      "256/256 [==============================] - 17s 68ms/step - loss: 0.1259 - acc: 0.9612 - val_loss: 2.7169 - val_acc: 0.5762\n",
      "Epoch 13/50\n",
      "256/256 [==============================] - 17s 68ms/step - loss: 0.0983 - acc: 0.9709 - val_loss: 2.8435 - val_acc: 0.5704\n",
      "Epoch 14/50\n",
      "256/256 [==============================] - 17s 68ms/step - loss: 0.0697 - acc: 0.9814 - val_loss: 3.0423 - val_acc: 0.5651\n",
      "Epoch 15/50\n",
      "256/256 [==============================] - 17s 68ms/step - loss: 0.0862 - acc: 0.9746 - val_loss: 2.9939 - val_acc: 0.5776\n",
      "Epoch 16/50\n",
      "256/256 [==============================] - 18s 69ms/step - loss: 0.0775 - acc: 0.9766 - val_loss: 3.1105 - val_acc: 0.5740\n",
      "Epoch 17/50\n",
      "256/256 [==============================] - 17s 68ms/step - loss: 0.0687 - acc: 0.9810 - val_loss: 3.1979 - val_acc: 0.5609\n",
      "Epoch 18/50\n",
      "256/256 [==============================] - 17s 68ms/step - loss: 0.0582 - acc: 0.9855 - val_loss: 3.2352 - val_acc: 0.5692\n",
      "Epoch 19/50\n",
      "256/256 [==============================] - 18s 69ms/step - loss: 0.0636 - acc: 0.9831 - val_loss: 3.1201 - val_acc: 0.5782\n",
      "Epoch 20/50\n",
      "256/256 [==============================] - 18s 68ms/step - loss: 0.0911 - acc: 0.9726 - val_loss: 3.2925 - val_acc: 0.5737\n",
      "Epoch 21/50\n",
      "256/256 [==============================] - 18s 69ms/step - loss: 0.0514 - acc: 0.9863 - val_loss: 3.2964 - val_acc: 0.5751\n",
      "Epoch 22/50\n",
      "256/256 [==============================] - 18s 69ms/step - loss: 0.0571 - acc: 0.9840 - val_loss: 3.2962 - val_acc: 0.5695\n",
      "Epoch 23/50\n",
      "256/256 [==============================] - 18s 69ms/step - loss: 0.0612 - acc: 0.9828 - val_loss: 3.2889 - val_acc: 0.5751\n",
      "Epoch 24/50\n",
      "256/256 [==============================] - 18s 69ms/step - loss: 0.0442 - acc: 0.9886 - val_loss: 3.2471 - val_acc: 0.5706\n",
      "Epoch 25/50\n",
      "256/256 [==============================] - 18s 68ms/step - loss: 0.0420 - acc: 0.9892 - val_loss: 3.3063 - val_acc: 0.5846\n",
      "Epoch 26/50\n",
      "256/256 [==============================] - 18s 69ms/step - loss: 0.0446 - acc: 0.9885 - val_loss: 3.3586 - val_acc: 0.5740\n",
      "Epoch 27/50\n",
      "256/256 [==============================] - 18s 69ms/step - loss: 0.0505 - acc: 0.9866 - val_loss: 3.4074 - val_acc: 0.5701\n",
      "Epoch 28/50\n",
      "256/256 [==============================] - 18s 69ms/step - loss: 0.0479 - acc: 0.9867 - val_loss: 3.5655 - val_acc: 0.5637\n",
      "Epoch 29/50\n",
      "256/256 [==============================] - 18s 69ms/step - loss: 0.0637 - acc: 0.9815 - val_loss: 3.2549 - val_acc: 0.5676\n",
      "Epoch 30/50\n",
      "256/256 [==============================] - 18s 69ms/step - loss: 0.0481 - acc: 0.9868 - val_loss: 3.4516 - val_acc: 0.5809\n",
      "Epoch 31/50\n",
      "256/256 [==============================] - 18s 69ms/step - loss: 0.0488 - acc: 0.9864 - val_loss: 3.4380 - val_acc: 0.5754\n",
      "Epoch 32/50\n",
      "256/256 [==============================] - 18s 69ms/step - loss: 0.0355 - acc: 0.9917 - val_loss: 3.5241 - val_acc: 0.5698\n",
      "Epoch 33/50\n",
      "256/256 [==============================] - 18s 69ms/step - loss: 0.0379 - acc: 0.9913 - val_loss: 3.4163 - val_acc: 0.5815\n",
      "Epoch 34/50\n",
      "256/256 [==============================] - 18s 69ms/step - loss: 0.0340 - acc: 0.9921 - val_loss: 3.5006 - val_acc: 0.5687\n",
      "Epoch 35/50\n",
      "256/256 [==============================] - 18s 69ms/step - loss: 0.0613 - acc: 0.9824 - val_loss: 3.5444 - val_acc: 0.5637\n",
      "Epoch 36/50\n",
      "256/256 [==============================] - 18s 69ms/step - loss: 0.0450 - acc: 0.9883 - val_loss: 3.5240 - val_acc: 0.5720\n",
      "Epoch 37/50\n",
      "256/256 [==============================] - 18s 69ms/step - loss: 0.0394 - acc: 0.9905 - val_loss: 3.5230 - val_acc: 0.5676\n",
      "Epoch 38/50\n",
      "256/256 [==============================] - 18s 69ms/step - loss: 0.0402 - acc: 0.9894 - val_loss: 3.4311 - val_acc: 0.5770\n",
      "Epoch 39/50\n",
      "256/256 [==============================] - 18s 69ms/step - loss: 0.0428 - acc: 0.9892 - val_loss: 3.4935 - val_acc: 0.5676\n",
      "Epoch 40/50\n",
      "256/256 [==============================] - 18s 69ms/step - loss: 0.0335 - acc: 0.9913 - val_loss: 3.4114 - val_acc: 0.5787\n",
      "Epoch 41/50\n",
      "256/256 [==============================] - 18s 69ms/step - loss: 0.0353 - acc: 0.9907 - val_loss: 3.6581 - val_acc: 0.5662\n",
      "Epoch 42/50\n",
      "256/256 [==============================] - 18s 68ms/step - loss: 0.0561 - acc: 0.9831 - val_loss: 3.5682 - val_acc: 0.5678\n",
      "Epoch 43/50\n",
      "256/256 [==============================] - 18s 68ms/step - loss: 0.0281 - acc: 0.9931 - val_loss: 3.3765 - val_acc: 0.5743\n",
      "Epoch 44/50\n",
      "256/256 [==============================] - 18s 69ms/step - loss: 0.0258 - acc: 0.9938 - val_loss: 3.5848 - val_acc: 0.5723\n",
      "Epoch 45/50\n",
      "256/256 [==============================] - 18s 68ms/step - loss: 0.0382 - acc: 0.9896 - val_loss: 3.5509 - val_acc: 0.5773\n",
      "Epoch 46/50\n",
      "256/256 [==============================] - 18s 69ms/step - loss: 0.0439 - acc: 0.9872 - val_loss: 3.6028 - val_acc: 0.5687\n",
      "Epoch 47/50\n",
      "256/256 [==============================] - 18s 69ms/step - loss: 0.0455 - acc: 0.9863 - val_loss: 3.6625 - val_acc: 0.5717\n",
      "Epoch 48/50\n",
      "256/256 [==============================] - 18s 69ms/step - loss: 0.0299 - acc: 0.9917 - val_loss: 3.5581 - val_acc: 0.5726\n",
      "Epoch 49/50\n",
      "256/256 [==============================] - 18s 69ms/step - loss: 0.0439 - acc: 0.9869 - val_loss: 3.5635 - val_acc: 0.5723\n",
      "Epoch 50/50\n",
      "256/256 [==============================] - 18s 69ms/step - loss: 0.0340 - acc: 0.9902 - val_loss: 3.6919 - val_acc: 0.5673\n"
     ]
    },
    {
     "data": {
      "text/plain": [
       "<tensorflow.python.keras.callbacks.History at 0x23661f7af60>"
      ]
     },
     "execution_count": 75,
     "metadata": {},
     "output_type": "execute_result"
    }
   ],
   "source": [
    "#train the algorithm\n",
    "model.fit_generator(train_data,steps_per_epoch=256,epochs=50,verbose=True,validation_data=[xtest,ytest])"
   ]
  },
  {
   "cell_type": "code",
   "execution_count": 79,
   "metadata": {},
   "outputs": [
    {
     "data": {
      "text/plain": [
       "array([[1.2906981e-03, 5.0159711e-01, 7.6383790e-03, 3.0879690e-09,\n",
       "        3.2444414e-06, 4.8944077e-01, 2.9823606e-05]], dtype=float32)"
      ]
     },
     "execution_count": 79,
     "metadata": {},
     "output_type": "execute_result"
    }
   ],
   "source": [
    "img=image.load_img(r\"C:\\Users\\Roboindia\\Desktop\\Aashish\\image.jpg\",grayscale=True,target_size=(48,48))\n",
    "img=image.img_to_array(img)\n",
    "img=numpy.expand_dims(img,axis=0)\n",
    "img=img/255\n",
    "model.predict(img)"
   ]
  },
  {
   "cell_type": "code",
   "execution_count": 80,
   "metadata": {},
   "outputs": [
    {
     "data": {
      "image/png": "[encoded data removed]",
      "text/plain": [
       "<Figure size 432x288 with 1 Axes>"
      ]
     },
     "metadata": {},
     "output_type": "display_data"
    }
   ],
   "source": [
    "plt.bar(numpy.arange(7),model.predict(img)[0])\n",
    "plt.xticks(numpy.arange(7),labels)\n",
    "plt.ylabel('percentange')\n",
    "plt.show()"
   ]
  },
  {
   "cell_type": "code",
   "execution_count": 81,
   "metadata": {},
   "outputs": [
    {
     "data": {
      "text/plain": [
       "'disgust'"
      ]
     },
     "execution_count": 81,
     "metadata": {},
     "output_type": "execute_result"
    }
   ],
   "source": [
    "labels[model.predict_classes(img)[0]]"
   ]
  },
  {
   "cell_type": "code",
   "execution_count": null,
   "metadata": {},
   "outputs": [],
   "source": []
  }
 ],
 "metadata": {
  "kernelspec": {
   "display_name": "Python 3",
   "language": "python",
   "name": "python3"
  },
  "language_info": {
   "codemirror_mode": {
    "name": "ipython",
    "version": 3
   },
   "file_extension": ".py",
   "mimetype": "text/x-python",
   "name": "python",
   "nbconvert_exporter": "python",
   "pygments_lexer": "ipython3",
   "version": "3.6.5"
  }
 },
 "nbformat": 4,
 "nbformat_minor": 2
}

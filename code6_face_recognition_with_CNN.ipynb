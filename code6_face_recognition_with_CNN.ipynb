{
 "cells": [
  {
   "cell_type": "markdown",
   "metadata": {},
   "source": [
    "# Convolutional Neural Network"
   ]
  },
  {
   "cell_type": "code",
   "execution_count": 1,
   "metadata": {},
   "outputs": [
    {
     "name": "stderr",
     "output_type": "stream",
     "text": [
      "C:\\ProgramData\\Anaconda3\\lib\\site-packages\\h5py\\__init__.py:36: FutureWarning: Conversion of the second argument of issubdtype from `float` to `np.floating` is deprecated. In future, it will be treated as `np.float64 == np.dtype(float).type`.\n",
      "  from ._conv import register_converters as _register_converters\n"
     ]
    }
   ],
   "source": [
    "from tensorflow.keras import models,layers"
   ]
  },
  {
   "cell_type": "code",
   "execution_count": 2,
   "metadata": {},
   "outputs": [],
   "source": [
    "model=models.Sequential()"
   ]
  },
  {
   "cell_type": "code",
   "execution_count": 3,
   "metadata": {},
   "outputs": [],
   "source": [
    "#1st cov+relu+pool\n",
    "model.add(layers.Conv2D(filters=32,kernel_size=(3,3),activation='relu',input_shape=(64,64,3)))\n",
    "model.add(layers.MaxPooling2D(pool_size=(2,2)))"
   ]
  },
  {
   "cell_type": "code",
   "execution_count": 4,
   "metadata": {},
   "outputs": [],
   "source": [
    "model.add(layers.Conv2D(filters=32,kernel_size=(3,3),activation='relu'))\n",
    "model.add(layers.MaxPooling2D(pool_size=(2,2)))"
   ]
  },
  {
   "cell_type": "code",
   "execution_count": 5,
   "metadata": {},
   "outputs": [],
   "source": [
    "model.add(layers.Flatten())"
   ]
  },
  {
   "cell_type": "code",
   "execution_count": 6,
   "metadata": {},
   "outputs": [],
   "source": [
    "#Classification Section"
   ]
  },
  {
   "cell_type": "code",
   "execution_count": 7,
   "metadata": {},
   "outputs": [],
   "source": [
    "model.add(layers.Dense(128,activation='relu'))"
   ]
  },
  {
   "cell_type": "code",
   "execution_count": 8,
   "metadata": {},
   "outputs": [],
   "source": [
    "model.add(layers.Dense(1,activation='sigmoid'))"
   ]
  },
  {
   "cell_type": "code",
   "execution_count": 9,
   "metadata": {},
   "outputs": [],
   "source": [
    "model.compile(loss='binary_crossentropy',optimizer='adam',metrics=['accuracy'])"
   ]
  },
  {
   "cell_type": "markdown",
   "metadata": {},
   "source": [
    "# Data Preparation and Training the model"
   ]
  },
  {
   "cell_type": "code",
   "execution_count": 10,
   "metadata": {},
   "outputs": [],
   "source": [
    "from tensorflow.keras.preprocessing.image import ImageDataGenerator"
   ]
  },
  {
   "cell_type": "code",
   "execution_count": 11,
   "metadata": {},
   "outputs": [],
   "source": [
    "traind=ImageDataGenerator(rescale=1.0/255,\n",
    "                          shear_range=0.2,\n",
    "                          zoom_range=0.2,\n",
    "                          horizontal_flip=True)"
   ]
  },
  {
   "cell_type": "code",
   "execution_count": 12,
   "metadata": {},
   "outputs": [
    {
     "name": "stdout",
     "output_type": "stream",
     "text": [
      "Found 20 images belonging to 2 classes.\n"
     ]
    }
   ],
   "source": [
    "traindata=traind.flow_from_directory(r\"C:\\Users\\Roboindia\\Desktop\\Aashish\\faces\\train\",\n",
    "                                     #color_mode='grayscale',\n",
    "                                     target_size=(64,64),\n",
    "                                     class_mode='binary')"
   ]
  },
  {
   "cell_type": "code",
   "execution_count": 13,
   "metadata": {},
   "outputs": [
    {
     "data": {
      "text/plain": [
       "tensorflow.python.keras.preprocessing.image.DirectoryIterator"
      ]
     },
     "execution_count": 13,
     "metadata": {},
     "output_type": "execute_result"
    }
   ],
   "source": [
    "type(traindata)"
   ]
  },
  {
   "cell_type": "code",
   "execution_count": 14,
   "metadata": {},
   "outputs": [
    {
     "name": "stdout",
     "output_type": "stream",
     "text": [
      "Epoch 1/30\n",
      "1/1 [==============================] - 5s 5s/step - loss: 0.6989 - acc: 0.5000\n",
      "Epoch 2/30\n",
      "1/1 [==============================] - 0s 9ms/step - loss: 0.7411 - acc: 0.5000\n",
      "Epoch 3/30\n",
      "1/1 [==============================] - 0s 72ms/step - loss: 0.7056 - acc: 0.5000\n",
      "Epoch 4/30\n",
      "1/1 [==============================] - 0s 109ms/step - loss: 0.6803 - acc: 0.5000\n",
      "Epoch 5/30\n",
      "1/1 [==============================] - 0s 93ms/step - loss: 0.6681 - acc: 0.6500\n",
      "Epoch 6/30\n",
      "1/1 [==============================] - 0s 100ms/step - loss: 0.6474 - acc: 0.8000\n",
      "Epoch 7/30\n",
      "1/1 [==============================] - 0s 101ms/step - loss: 0.6409 - acc: 0.6000\n",
      "Epoch 8/30\n",
      "1/1 [==============================] - 0s 106ms/step - loss: 0.6272 - acc: 0.6500\n",
      "Epoch 9/30\n",
      "1/1 [==============================] - 0s 99ms/step - loss: 0.5981 - acc: 0.8000\n",
      "Epoch 10/30\n",
      "1/1 [==============================] - 0s 104ms/step - loss: 0.5845 - acc: 0.9000\n",
      "Epoch 11/30\n",
      "1/1 [==============================] - 0s 102ms/step - loss: 0.5346 - acc: 0.9000\n",
      "Epoch 12/30\n",
      "1/1 [==============================] - 0s 102ms/step - loss: 0.5245 - acc: 0.9000\n",
      "Epoch 13/30\n",
      "1/1 [==============================] - 0s 99ms/step - loss: 0.4928 - acc: 1.0000\n",
      "Epoch 14/30\n",
      "1/1 [==============================] - 0s 107ms/step - loss: 0.4771 - acc: 0.8000\n",
      "Epoch 15/30\n",
      "1/1 [==============================] - 0s 98ms/step - loss: 0.4303 - acc: 0.9500\n",
      "Epoch 16/30\n",
      "1/1 [==============================] - 0s 101ms/step - loss: 0.3979 - acc: 1.0000\n",
      "Epoch 17/30\n",
      "1/1 [==============================] - 0s 108ms/step - loss: 0.3349 - acc: 1.0000\n",
      "Epoch 18/30\n",
      "1/1 [==============================] - 0s 96ms/step - loss: 0.3583 - acc: 0.9500\n",
      "Epoch 19/30\n",
      "1/1 [==============================] - 0s 102ms/step - loss: 0.2337 - acc: 1.0000\n",
      "Epoch 20/30\n",
      "1/1 [==============================] - 0s 102ms/step - loss: 0.2814 - acc: 0.9000\n",
      "Epoch 21/30\n",
      "1/1 [==============================] - 0s 103ms/step - loss: 0.2184 - acc: 1.0000\n",
      "Epoch 22/30\n",
      "1/1 [==============================] - 0s 102ms/step - loss: 0.1927 - acc: 1.0000\n",
      "Epoch 23/30\n",
      "1/1 [==============================] - 0s 108ms/step - loss: 0.2351 - acc: 0.9000\n",
      "Epoch 24/30\n",
      "1/1 [==============================] - 0s 96ms/step - loss: 0.2189 - acc: 0.9000\n",
      "Epoch 25/30\n",
      "1/1 [==============================] - 0s 104ms/step - loss: 0.1007 - acc: 1.0000\n",
      "Epoch 26/30\n",
      "1/1 [==============================] - 0s 99ms/step - loss: 0.3950 - acc: 0.8000\n",
      "Epoch 27/30\n",
      "1/1 [==============================] - 0s 98ms/step - loss: 0.1040 - acc: 0.9500\n",
      "Epoch 28/30\n",
      "1/1 [==============================] - 0s 103ms/step - loss: 0.2896 - acc: 0.8500\n",
      "Epoch 29/30\n",
      "1/1 [==============================] - 0s 103ms/step - loss: 0.1020 - acc: 0.9500\n",
      "Epoch 30/30\n",
      "1/1 [==============================] - 0s 101ms/step - loss: 0.0457 - acc: 1.0000\n"
     ]
    },
    {
     "data": {
      "text/plain": [
       "<tensorflow.python.keras.callbacks.History at 0x1bd00054390>"
      ]
     },
     "execution_count": 14,
     "metadata": {},
     "output_type": "execute_result"
    }
   ],
   "source": [
    "model.fit_generator(traindata,steps_per_epoch=1,epochs=30)"
   ]
  },
  {
   "cell_type": "code",
   "execution_count": 15,
   "metadata": {},
   "outputs": [],
   "source": [
    "from tensorflow.keras.preprocessing import image"
   ]
  },
  {
   "cell_type": "code",
   "execution_count": 30,
   "metadata": {},
   "outputs": [],
   "source": [
    "img=image.load_img(r\"C:\\Users\\Roboindia\\Desktop\\Aashish\\faces\\train\\kohli\\kohli.5..jpg\",target_size=(64,64))"
   ]
  },
  {
   "cell_type": "code",
   "execution_count": 31,
   "metadata": {},
   "outputs": [],
   "source": [
    "img=image.img_to_array(img)\n",
    "import numpy\n",
    "img=numpy.expand_dims(img,axis=0)"
   ]
  },
  {
   "cell_type": "code",
   "execution_count": 32,
   "metadata": {},
   "outputs": [
    {
     "data": {
      "text/plain": [
       "array([[1]])"
      ]
     },
     "execution_count": 32,
     "metadata": {},
     "output_type": "execute_result"
    }
   ],
   "source": [
    "model.predict_classes(img)"
   ]
  },
  {
   "cell_type": "code",
   "execution_count": null,
   "metadata": {},
   "outputs": [],
   "source": []
  }
 ],
 "metadata": {
  "kernelspec": {
   "display_name": "Python 3",
   "language": "python",
   "name": "python3"
  },
  "language_info": {
   "codemirror_mode": {
    "name": "ipython",
    "version": 3
   },
   "file_extension": ".py",
   "mimetype": "text/x-python",
   "name": "python",
   "nbconvert_exporter": "python",
   "pygments_lexer": "ipython3",
   "version": "3.6.5"
  }
 },
 "nbformat": 4,
 "nbformat_minor": 2
}

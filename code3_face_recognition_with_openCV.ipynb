{
 "cells": [
  {
   "cell_type": "code",
   "execution_count": 1,
   "metadata": {},
   "outputs": [],
   "source": [
    "import cv2\n",
    "import os\n",
    "import numpy"
   ]
  },
  {
   "cell_type": "code",
   "execution_count": 2,
   "metadata": {},
   "outputs": [],
   "source": [
    "path=r\"C:\\Python35\\images\\faces\""
   ]
  },
  {
   "cell_type": "code",
   "execution_count": 19,
   "metadata": {},
   "outputs": [],
   "source": [
    "def load_data(path):\n",
    "    xd=[]\n",
    "    yd=[]\n",
    "    fd=cv2.CascadeClassifier(r\"C:\\Python35\\images\\haarcascade_frontalface_alt.xml\")\n",
    "    folders=os.listdir(path)\n",
    "    for fold in folders:\n",
    "        files=os.listdir(path+'\\\\'+fold)\n",
    "        for file in files:\n",
    "            img=cv2.imread(path+'\\\\'+fold+'\\\\'+file)\n",
    "            img=cv2.cvtColor(img,cv2.COLOR_BGR2GRAY)\n",
    "            faces=fd.detectMultiScale(img,1.3,4)\n",
    "            if len(faces)!=0:\n",
    "                for (x,y,w,h) in faces:\n",
    "                    face=img[y:y+h,x:x+w]\n",
    "                    face=cv2.resize(face,(120,120))\n",
    "                    cv2.imshow('img',face)\n",
    "                    cv2.waitKey(5000)\n",
    "                    cv2.destroyAllWindows()\n",
    "                    xd.append(face)\n",
    "                    yd.append(folders.index(fold))\n",
    "    return xd,yd"
   ]
  },
  {
   "cell_type": "code",
   "execution_count": 21,
   "metadata": {},
   "outputs": [
    {
     "name": "stdout",
     "output_type": "stream",
     "text": [
      "10\n",
      "10\n"
     ]
    }
   ],
   "source": [
    "xd,yd=load_data(path)\n",
    "print(len(xd))\n",
    "print(len(yd))"
   ]
  },
  {
   "cell_type": "code",
   "execution_count": 22,
   "metadata": {},
   "outputs": [
    {
     "name": "stdout",
     "output_type": "stream",
     "text": [
      "(120, 120)\n",
      "(120, 120)\n",
      "(120, 120)\n",
      "(120, 120)\n",
      "(120, 120)\n",
      "(120, 120)\n",
      "(120, 120)\n",
      "(120, 120)\n",
      "(120, 120)\n",
      "(120, 120)\n",
      "[0, 0, 0, 0, 0, 1, 1, 1, 1, 1]\n"
     ]
    }
   ],
   "source": [
    "for i in xd:\n",
    "    print(i.shape)\n",
    "print(yd)"
   ]
  },
  {
   "cell_type": "code",
   "execution_count": 24,
   "metadata": {},
   "outputs": [],
   "source": [
    "labels=['Dhoni','Kohli']"
   ]
  },
  {
   "cell_type": "code",
   "execution_count": 25,
   "metadata": {},
   "outputs": [],
   "source": [
    "model=cv2.face.EigenFaceRecognizer_create()"
   ]
  },
  {
   "cell_type": "code",
   "execution_count": 26,
   "metadata": {},
   "outputs": [],
   "source": [
    "model.train(xd,numpy.array(yd))"
   ]
  },
  {
   "cell_type": "code",
   "execution_count": 44,
   "metadata": {},
   "outputs": [],
   "source": [
    "def prediction(img,model=model):\n",
    "    img2=cv2.cvtColor(img,cv2.COLOR_BGR2GRAY)\n",
    "    fd=cv2.CascadeClassifier(r\"C:\\Python35\\images\\haarcascade_frontalface_alt.xml\")\n",
    "    faces=fd.detectMultiScale(img2,1.3,4)\n",
    "    if len(faces)!=0:\n",
    "        for (x,y,w,h) in faces:\n",
    "            face=img2[y:y+h,x:x+w]\n",
    "            face=cv2.resize(face,(120,120))\n",
    "            out,confidence=model.predict(face)\n",
    "            cv2.rectangle(img,(x,y),(x+w,y+h),[255,0,0],2)\n",
    "            text=labels[out]\n",
    "            cv2.putText(img,text,(x,y),cv2.FONT_HERSHEY_PLAIN,3.5,[0,0,255],2)\n",
    "    cv2.imshow('img',img)\n",
    "    cv2.waitKey(0)\n",
    "    cv2.destroyAllWindows()\n",
    "    return out,confidence"
   ]
  },
  {
   "cell_type": "code",
   "execution_count": 55,
   "metadata": {},
   "outputs": [],
   "source": [
    "img=cv2.imread(r\"C:\\Python35\\images\\image.jpg\")"
   ]
  },
  {
   "cell_type": "code",
   "execution_count": 56,
   "metadata": {},
   "outputs": [
    {
     "data": {
      "text/plain": [
       "(1, 3207.9614203059705)"
      ]
     },
     "execution_count": 56,
     "metadata": {},
     "output_type": "execute_result"
    }
   ],
   "source": [
    "prediction(img)"
   ]
  },
  {
   "cell_type": "code",
   "execution_count": 58,
   "metadata": {},
   "outputs": [],
   "source": [
    "vid=cv2.VideoCapture(r\"C:\\Python35\\images\\dhoni_kohli.mp4\")\n",
    "while True:\n",
    "    ret,img=vid.read()\n",
    "    img2=cv2.cvtColor(img,cv2.COLOR_BGR2GRAY)\n",
    "    fd=cv2.CascadeClassifier(r\"C:\\Python35\\images\\haarcascade_frontalface_alt.xml\")\n",
    "    faces=fd.detectMultiScale(img2,1.3,4)\n",
    "    if len(faces)!=0:\n",
    "        for (x,y,w,h) in faces:\n",
    "            face=img2[y:y+h,x:x+w]\n",
    "            face=cv2.resize(face,(120,120))\n",
    "            out,confidence=model.predict(face)\n",
    "            cv2.rectangle(img,(x,y),(x+w,y+h),[255,0,0],2)\n",
    "            text=labels[out]\n",
    "            cv2.putText(img,text,(x,y),cv2.FONT_HERSHEY_PLAIN,1.5,[0,0,255],2)\n",
    "        cv2.imshow('img',img)\n",
    "    if cv2.waitKey(1) & 0xFF==ord('q'):\n",
    "        break\n",
    "vid.release()\n",
    "cv2.destroyAllWindows()"
   ]
  },
  {
   "cell_type": "code",
   "execution_count": null,
   "metadata": {},
   "outputs": [],
   "source": []
  }
 ],
 "metadata": {
  "kernelspec": {
   "display_name": "Python 3",
   "language": "python",
   "name": "python3"
  },
  "language_info": {
   "codemirror_mode": {
    "name": "ipython",
    "version": 3
   },
   "file_extension": ".py",
   "mimetype": "text/x-python",
   "name": "python",
   "nbconvert_exporter": "python",
   "pygments_lexer": "ipython3",
   "version": "3.6.5"
  }
 },
 "nbformat": 4,
 "nbformat_minor": 2
}
